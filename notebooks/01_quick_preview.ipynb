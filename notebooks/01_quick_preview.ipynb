{
 "cells": [
  {
   "cell_type": "code",
   "execution_count": 1,
   "metadata": {
    "editable": true,
    "slideshow": {
     "slide_type": ""
    },
    "tags": []
   },
   "outputs": [
    {
     "name": "stdout",
     "output_type": "stream",
     "text": [
      "find_spec(src) → ModuleSpec(name='src', loader=<_frozen_importlib_external.SourceFileLoader object at 0x1069a1310>, origin='/Users/priyankjairaj/Downloads/ctu-flowrag/src/__init__.py', submodule_search_locations=['/Users/priyankjairaj/Downloads/ctu-flowrag/src'])\n"
     ]
    }
   ],
   "source": [
    "import sys, pathlib, importlib.util\n",
    "ROOT = pathlib.Path(\"/Users/priyankjairaj/Downloads/ctu-flowrag\").resolve()\n",
    "if str(ROOT) not in sys.path:\n",
    "    sys.path.insert(0, str(ROOT))\n",
    "\n",
    "print(\"find_spec(src) →\", importlib.util.find_spec(\"src\"))\n",
    "# should print a ModuleSpec, not None\n"
   ]
  },
  {
   "cell_type": "code",
   "execution_count": 3,
   "metadata": {
    "editable": true,
    "slideshow": {
     "slide_type": ""
    },
    "tags": []
   },
   "outputs": [
    {
     "name": "stdout",
     "output_type": "stream",
     "text": [
      "/Users/priyankjairaj/.pyenv/versions/3.11.9/bin/python\n",
      "Conda env: None\n"
     ]
    },
    {
     "ename": "AttributeError",
     "evalue": "module 'fasttext' has no attribute '__version__'",
     "output_type": "error",
     "traceback": [
      "\u001b[31m---------------------------------------------------------------------------\u001b[39m",
      "\u001b[31mAttributeError\u001b[39m                            Traceback (most recent call last)",
      "\u001b[36mCell\u001b[39m\u001b[36m \u001b[39m\u001b[32mIn[3]\u001b[39m\u001b[32m, line 4\u001b[39m\n\u001b[32m      2\u001b[39m \u001b[38;5;28mprint\u001b[39m(sys.executable)               \u001b[38;5;66;03m# …/miniconda3/envs/ctu/bin/python\u001b[39;00m\n\u001b[32m      3\u001b[39m \u001b[38;5;28mprint\u001b[39m(\u001b[33m\"\u001b[39m\u001b[33mConda env:\u001b[39m\u001b[33m\"\u001b[39m, os.environ.get(\u001b[33m\"\u001b[39m\u001b[33mCONDA_DEFAULT_ENV\u001b[39m\u001b[33m\"\u001b[39m))   \u001b[38;5;66;03m# ctu\u001b[39;00m\n\u001b[32m----> \u001b[39m\u001b[32m4\u001b[39m \u001b[38;5;28mprint\u001b[39m(\u001b[33m\"\u001b[39m\u001b[33mfasttext version:\u001b[39m\u001b[33m\"\u001b[39m, \u001b[43mfasttext\u001b[49m\u001b[43m.\u001b[49m\u001b[43m__version__\u001b[49m)           \u001b[38;5;66;03m# 0.9.2 or newer\u001b[39;00m\n",
      "\u001b[31mAttributeError\u001b[39m: module 'fasttext' has no attribute '__version__'"
     ]
    }
   ],
   "source": [
    "from src.io.load_scheme import load_scheme\n",
    "from src.prep.sent_split_lid import sent_split_lid\n",
    "from src.ctu.segment import segment_scheme\n",
    "from pathlib import Path\n",
    "\n",
    "ROOT = Path(\"/Users/priyankjairaj/Downloads/ctu-flowrag\")  # repo root\n",
    "scheme = load_scheme(ROOT / \"data/raw/schemes/25_ciss\")\n",
    "records = sent_split_lid(scheme[\"longDescription\"])\n",
    "ctus = segment_scheme(records)\n",
    "\n",
    "for c in ctus[:5]:\n",
    "    print(f\"CTU {c['ctu_id']} — {list(c['lang_counts'])} — {c['text'][:120]}…\\n\")"
   ]
  },
  {
   "cell_type": "code",
   "execution_count": null,
   "metadata": {
    "editable": true,
    "slideshow": {
     "slide_type": ""
    },
    "tags": []
   },
   "outputs": [],
   "source": []
  },
  {
   "cell_type": "code",
   "execution_count": null,
   "metadata": {
    "editable": true,
    "slideshow": {
     "slide_type": ""
    },
    "tags": []
   },
   "outputs": [],
   "source": []
  }
 ],
 "metadata": {
  "kernelspec": {
   "display_name": "Python 3 (ipykernel)",
   "language": "python",
   "name": "python3"
  },
  "language_info": {
   "codemirror_mode": {
    "name": "ipython",
    "version": 3
   },
   "file_extension": ".py",
   "mimetype": "text/x-python",
   "name": "python",
   "nbconvert_exporter": "python",
   "pygments_lexer": "ipython3",
   "version": "3.11.13"
  }
 },
 "nbformat": 4,
 "nbformat_minor": 4
}
