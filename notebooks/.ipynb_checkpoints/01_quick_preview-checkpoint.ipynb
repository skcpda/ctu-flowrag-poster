{
 "cells": [
  {
   "cell_type": "code",
   "execution_count": 1,
   "metadata": {},
   "outputs": [
    {
     "ename": "ModuleNotFoundError",
     "evalue": "No module named 'src'",
     "output_type": "error",
     "traceback": [
      "\u001b[31m---------------------------------------------------------------------------\u001b[39m",
      "\u001b[31mModuleNotFoundError\u001b[39m                       Traceback (most recent call last)",
      "\u001b[36mCell\u001b[39m\u001b[36m \u001b[39m\u001b[32mIn[1]\u001b[39m\u001b[32m, line 2\u001b[39m\n\u001b[32m      1\u001b[39m \u001b[38;5;28;01mfrom\u001b[39;00m\u001b[38;5;250m \u001b[39m\u001b[34;01mpathlib\u001b[39;00m\u001b[38;5;250m \u001b[39m\u001b[38;5;28;01mimport\u001b[39;00m Path\n\u001b[32m----> \u001b[39m\u001b[32m2\u001b[39m \u001b[38;5;28;01mfrom\u001b[39;00m\u001b[38;5;250m \u001b[39m\u001b[34;01msrc\u001b[39;00m\u001b[34;01m.\u001b[39;00m\u001b[34;01mio\u001b[39;00m\u001b[34;01m.\u001b[39;00m\u001b[34;01mload_scheme\u001b[39;00m\u001b[38;5;250m \u001b[39m\u001b[38;5;28;01mimport\u001b[39;00m load_scheme\n\u001b[32m      3\u001b[39m \u001b[38;5;28;01mfrom\u001b[39;00m\u001b[38;5;250m \u001b[39m\u001b[34;01msrc\u001b[39;00m\u001b[34;01m.\u001b[39;00m\u001b[34;01mprep\u001b[39;00m\u001b[34;01m.\u001b[39;00m\u001b[34;01msent_split_lid\u001b[39;00m\u001b[38;5;250m \u001b[39m\u001b[38;5;28;01mimport\u001b[39;00m sent_split_lid\n\u001b[32m      4\u001b[39m \u001b[38;5;28;01mfrom\u001b[39;00m\u001b[38;5;250m \u001b[39m\u001b[34;01msrc\u001b[39;00m\u001b[34;01m.\u001b[39;00m\u001b[34;01mctu\u001b[39;00m\u001b[34;01m.\u001b[39;00m\u001b[34;01msegment\u001b[39;00m\u001b[38;5;250m \u001b[39m\u001b[38;5;28;01mimport\u001b[39;00m segment_scheme\n",
      "\u001b[31mModuleNotFoundError\u001b[39m: No module named 'src'"
     ]
    }
   ],
   "source": [
    "from src.io.load_scheme import load_scheme\n",
    "from src.prep.sent_split_lid import sent_split_lid\n",
    "from src.ctu.segment import segment_scheme\n",
    "from pathlib import Path, PurePath\n",
    "\n",
    "scheme = load_scheme(Path(ROOT) / \"data/raw/schemes/25_ciss\")\n",
    "records = sent_split_lid(scheme[\"longDescription\"])\n",
    "ctus = segment_scheme(records)\n",
    "\n",
    "for c in ctus[:5]:\n",
    "    print(f\"CTU {c['ctu_id']} — {list(c['lang_counts'])} — {c['text'][:120]}…\\n\")\n"
   ]
  },
  {
   "cell_type": "code",
   "execution_count": 2,
   "metadata": {},
   "outputs": [
    {
     "name": "stdout",
     "output_type": "stream",
     "text": [
      "/opt/homebrew/Caskroom/miniconda/base/envs/ctu/bin/python\n",
      "Conda env: ctu\n"
     ]
    }
   ],
   "source": [
    "import sys, os\n",
    "print(sys.executable)\n",
    "print(\"Conda env:\", os.environ.get(\"CONDA_DEFAULT_ENV\"))\n"
   ]
  },
  {
   "cell_type": "code",
   "execution_count": 3,
   "metadata": {},
   "outputs": [
    {
     "name": "stdout",
     "output_type": "stream",
     "text": [
      "\n",
      "Repo root present in sys.path ?\n",
      "/Users/priyankjairaj/Downloads/ctu-flowrag \n",
      " False\n",
      "\n",
      "Find spec for src : None\n"
     ]
    }
   ],
   "source": [
    "import importlib.util, pprint, sys, os, pathlib\n",
    "\n",
    "print(\"\\nRepo root present in sys.path ?\")\n",
    "ROOT = pathlib.Path(\"/Users/priyankjairaj/Downloads/ctu-flowrag\").resolve()\n",
    "print(ROOT, \"\\n\", ROOT in map(pathlib.Path, map(pathlib.Path.resolve, map(pathlib.Path, sys.path))))\n",
    "\n",
    "print(\"\\nFind spec for src :\", importlib.util.find_spec(\"src\"))\n"
   ]
  },
  {
   "cell_type": "code",
   "execution_count": 4,
   "metadata": {},
   "outputs": [
    {
     "name": "stdout",
     "output_type": "stream",
     "text": [
      "find_spec(src) → ModuleSpec(name='src', loader=<_frozen_importlib_external.SourceFileLoader object at 0x1064b17d0>, origin='/Users/priyankjairaj/Downloads/ctu-flowrag/src/__init__.py', submodule_search_locations=['/Users/priyankjairaj/Downloads/ctu-flowrag/src'])\n"
     ]
    }
   ],
   "source": [
    "import sys, pathlib\n",
    "\n",
    "ROOT = pathlib.Path(\"/Users/priyankjairaj/Downloads/ctu-flowrag\").resolve()\n",
    "# put it at the very front so Python looks there first\n",
    "if str(ROOT) not in sys.path:\n",
    "    sys.path.insert(0, str(ROOT))\n",
    "\n",
    "# sanity check\n",
    "import importlib.util\n",
    "print(\"find_spec(src) →\", importlib.util.find_spec(\"src\"))\n"
   ]
  },
  {
   "cell_type": "code",
   "execution_count": null,
   "metadata": {},
   "outputs": [],
   "source": []
  }
 ],
 "metadata": {
  "kernelspec": {
   "display_name": "Python 3 (ipykernel)",
   "language": "python",
   "name": "python3"
  },
  "language_info": {
   "codemirror_mode": {
    "name": "ipython",
    "version": 3
   },
   "file_extension": ".py",
   "mimetype": "text/x-python",
   "name": "python",
   "nbconvert_exporter": "python",
   "pygments_lexer": "ipython3",
   "version": "3.11.13"
  }
 },
 "nbformat": 4,
 "nbformat_minor": 4
}
